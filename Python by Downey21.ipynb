{
 "cells": [
  {
   "cell_type": "markdown",
   "metadata": {},
   "source": [
    "# Markdown을 익혀보자!\n",
    "`<!--주석-->` 로 마크다운 주석처리를 할 수 있다.  <!-- 주석가가-->  \n",
    "`#` 개수로 제목수준을 결정한다. (1~6개 가능)  \n",
    "`*` 1개로 기울일 수 있다. *기울이기*  \n",
    "`**` 글자를 굵게할 수 있다. **굵게**  \n",
    "`***` 기울이고 굵게할 수 있다. ***기울이고 굵게***  \n",
    "`~~` 로 문장을 삭제할 수 있다. ~~잘못입력했다.~~  \n",
    "`---` 로 가로선을 넣을 수 있다.  \n",
    "\n",
    "---  \n",
    "\n",
    "수식은 LaTeX 문법을 그대로 사용할 수 있다.  \n",
    "`>` 인용문을 넣을 수 있다.  \n",
    "> 마크다운(Markdown)은 일반 텍스트 문서의 양식을 편집하는 문법이다. README 파일이나 온라인 문서, 혹은 일반 텍스트 편집기로 문서 양식을 편집할 때 쓰인다. 마크다운을 이용해 작성된 문서는 쉽게 HTML 등 다른 문서형태로 변환이 가능하다.  \n",
    "\n",
    "`< >` 나 `[ ]` 로 링크를 넣을 수 있다. <http://www.naver.com> 또는 링크를 숨기고 이름만 보이게 할 수 있다. [네이버](http://www.naver.com)  \n",
    "`![ ]( )` 로 이미지를 넣을 수 있다. 이미지 파일은 드롭박스 등 서버에 있는게 좋다.  \n",
    "![구글 로고](http://www.google.co.kr/images/srpr/logo11w.png)  \n",
    "\n",
    "---  \n",
    "\n",
    "`+`, `-`, `*` 로 순서가 없는 목록을 만들 수 있다. 순서가 있는 목록은 숫자를 이용한다.  \n",
    "\n",
    "1. 첫번째  \n",
    "1. 두번째  \n",
    "    * 두번째의 첫번째  \n",
    "    * 두번째의 두번째  \n",
    "1. 세번째  \n",
    "\n",
    "이상으로 기본적인 마크다운 기능을 살펴보았다. 마크다운 확장판에는 주석, 테이블 등 다른 기능도 존재한다.  \n",
    "\n",
    "---  \n"
   ]
  },
  {
   "cell_type": "markdown",
   "metadata": {},
   "source": [
    "# Python을 시작하자!\n",
    "코딩을 할 때 `-*- coding: utf-8 -*-` 처럼 인코딩을 명시하고 시작하자.  \n",
    "파이썬 3.5.x 버전을 다운받아 path지정을 체크하고 \"C:\\\\Python\\\\Python35\"에 설치했다.     \n",
    "pip를 이용하여 ipython, jupyter, numpy, scipy, pandas, matplotlib를 설치했다.     \n",
    "\"C:\\\\Python\\\\notebook\"에 주피터노트북 파일을 관리하기로 했다.  \n",
    "`pip install ipython jupyter numpy scipy pandas matplotlib`  \n",
    "`jupyter notebook`  "
   ]
  },
  {
   "cell_type": "code",
   "execution_count": 1,
   "metadata": {},
   "outputs": [],
   "source": [
    "print(\"Python을 시작하자!!!\")"
   ]
  },
  {
   "cell_type": "markdown",
   "metadata": {},
   "source": [
    "# Numpy\n",
    "Numpy 배열은 동일한 자료형만 배열의 원소로 입력할 수 있다.  \n",
    "파이썬의 리스트형은 각 원소들의 연산을 반복문을 통해 실행하지만, Numpy 배열은 철저한 배열 방식의 벡터화 연산을 통해 실행된다.  \n",
    "따라서 속도가 더 빠르다. R에서의 matrix와 유사하다.  \n",
    "\n",
    "파이썬 자료형에 추가로 Numpy 숫자형이 존재한다.  \n",
    "(bool, inti, int8, int16, int32, int64, uint8, uint16, uint32, uint64, float16, float32, float64, complex64, complex128)  \n",
    "숫자형에 대한 문자값도 존재하나 자주 사용하지 않는다.  \n"
   ]
  },
  {
   "cell_type": "code",
   "execution_count": 2,
   "metadata": {},
   "outputs": [],
   "source": [
    "import numpy as np"
   ]
  },
  {
   "cell_type": "code",
   "execution_count": 3,
   "metadata": {},
   "outputs": [
    {
     "data": {
      "text/plain": [
       "42.0"
      ]
     },
     "execution_count": 3,
     "metadata": {},
     "output_type": "execute_result"
    }
   ],
   "source": [
    "np.float(42)"
   ]
  },
  {
   "cell_type": "markdown",
   "metadata": {},
   "source": [
    "## 일차원 벡터"
   ]
  },
  {
   "cell_type": "code",
   "execution_count": 4,
   "metadata": {},
   "outputs": [
    {
     "name": "stdout",
     "output_type": "stream",
     "text": [
      "[0 1 2 3 4 5 6 7 8 9]\n"
     ]
    },
    {
     "data": {
      "text/plain": [
       "numpy.ndarray"
      ]
     },
     "execution_count": 4,
     "metadata": {},
     "output_type": "execute_result"
    }
   ],
   "source": [
    "a = np.arange(10, dtype = np.uint16)\n",
    "print(a)\n",
    "type(a)"
   ]
  },
  {
   "cell_type": "markdown",
   "metadata": {},
   "source": [
    "Numpy 배열 원소의 자료형을 반환"
   ]
  },
  {
   "cell_type": "code",
   "execution_count": 5,
   "metadata": {},
   "outputs": [
    {
     "data": {
      "text/plain": [
       "dtype('uint16')"
      ]
     },
     "execution_count": 5,
     "metadata": {},
     "output_type": "execute_result"
    }
   ],
   "source": [
    "a.dtype"
   ]
  },
  {
   "cell_type": "markdown",
   "metadata": {},
   "source": [
    "자료형 객체의 비트사이즈 반환"
   ]
  },
  {
   "cell_type": "code",
   "execution_count": 6,
   "metadata": {},
   "outputs": [
    {
     "data": {
      "text/plain": [
       "2"
      ]
     },
     "execution_count": 6,
     "metadata": {},
     "output_type": "execute_result"
    }
   ],
   "source": [
    "a.dtype.itemsize"
   ]
  },
  {
   "cell_type": "markdown",
   "metadata": {},
   "source": [
    "Numpy 배열의 dim을 반환"
   ]
  },
  {
   "cell_type": "code",
   "execution_count": 7,
   "metadata": {},
   "outputs": [
    {
     "data": {
      "text/plain": [
       "(10,)"
      ]
     },
     "execution_count": 7,
     "metadata": {},
     "output_type": "execute_result"
    }
   ],
   "source": [
    "a.shape"
   ]
  },
  {
   "cell_type": "code",
   "execution_count": 8,
   "metadata": {},
   "outputs": [
    {
     "data": {
      "text/plain": [
       "array([0, 2, 4, 6, 8], dtype=uint16)"
      ]
     },
     "execution_count": 8,
     "metadata": {},
     "output_type": "execute_result"
    }
   ],
   "source": [
    "a[:10:2]"
   ]
  },
  {
   "cell_type": "code",
   "execution_count": 9,
   "metadata": {},
   "outputs": [
    {
     "data": {
      "text/plain": [
       "array([9, 8, 7, 6, 5, 4, 3, 2, 1, 0], dtype=uint16)"
      ]
     },
     "execution_count": 9,
     "metadata": {},
     "output_type": "execute_result"
    }
   ],
   "source": [
    "a[::-1]"
   ]
  },
  {
   "cell_type": "markdown",
   "metadata": {},
   "source": [
    "## 행렬"
   ]
  },
  {
   "cell_type": "code",
   "execution_count": 10,
   "metadata": {
    "scrolled": true
   },
   "outputs": [
    {
     "name": "stdout",
     "output_type": "stream",
     "text": [
      "[[1 2]\n",
      " [3 4]]\n"
     ]
    }
   ],
   "source": [
    "b = np.array([[1, 2], [3, 4]])\n",
    "print(b)"
   ]
  },
  {
   "cell_type": "code",
   "execution_count": 11,
   "metadata": {},
   "outputs": [
    {
     "data": {
      "text/plain": [
       "4"
      ]
     },
     "execution_count": 11,
     "metadata": {},
     "output_type": "execute_result"
    }
   ],
   "source": [
    "b[1,1]"
   ]
  },
  {
   "cell_type": "code",
   "execution_count": null,
   "metadata": {},
   "outputs": [],
   "source": [
    "b"
   ]
  }
 ],
 "metadata": {
  "kernelspec": {
   "display_name": "Python 3",
   "language": "python",
   "name": "python3"
  },
  "language_info": {
   "codemirror_mode": {
    "name": "ipython",
    "version": 3
   },
   "file_extension": ".py",
   "mimetype": "text/x-python",
   "name": "python",
   "nbconvert_exporter": "python",
   "pygments_lexer": "ipython3",
   "version": "3.5.4"
  }
 },
 "nbformat": 4,
 "nbformat_minor": 2
}
